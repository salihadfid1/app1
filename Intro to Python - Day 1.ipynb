{
 "cells": [
  {
   "cell_type": "markdown",
   "metadata": {},
   "source": [
    "<div class=\"row\">\n",
    "    <div class=\"column\">\n",
    "        <img src=\"https://datasciencecampus.ons.gov.uk/wp-content/uploads/sites/10/2017/03/data-science-campus-logo-new.svg\"\n",
    "             alt=\"Data Science Campus Logo\"\n",
    "             align=\"right\" \n",
    "             width = \"340\"\n",
    "             style=\"margin: 0px 60px\"\n",
    "             />\n",
    "    </div>\n",
    "    <div class=\"column\">\n",
    "        <img src=\"https://cdn.ons.gov.uk/assets/images/ons-logo/v2/ons-logo.svg\"\n",
    "             alt=\"ONS Logo\"\n",
    "             align=\"left\" \n",
    "             width = \"420\"\n",
    "             style=\"margin: 0px 30px\"/>\n",
    "    </div>\n",
    "</div>"
   ]
  },
  {
   "cell_type": "markdown",
   "metadata": {},
   "source": [
    "# Introduction to Python: Day 1\n",
    "\n",
    "## Trainer\n",
    "\n",
    "<font size=\"+0.5\">Saliha Minhas</font>   \n",
    "(<s-minhas@dfid.gov.uk>)  \n",
    "\n",
    "<font size=\"+0.5\">Rueben Laryea </font>   \n",
    "(<Rueben.Laryea@ons.gov.uk>)  \n"
   ]
  },
  {
   "cell_type": "markdown",
   "metadata": {},
   "source": [
    "## Table of Contents\n",
    "\n",
    "\n",
    "<br>\n",
    "<b>Section 1: </b><a href=\"#Background\"><font size=\"+1\">Background</font></a>\n",
    "<br>\n",
    "<ol>\n",
    "  <li>Learning Objectives</li>\n",
    "  <li>Working with Python</li>\n",
    "  <li>Jupyter Notebooks </li>\n",
    "  <li>Markdown</li>\n",
    "</ol>\n",
    "<br>\n",
    "\n",
    "\n",
    "<b>Section 2: </b><a href=\"#Basic-Python\"><font size=\"+1\">Basic Python</font></a>\n",
    "<br>\n",
    "<ol>\n",
    "  <li>Numeric Values</li>\n",
    "  <li>Text Values </li>\n",
    "  <li>Logical Values</li>\n",
    "  <li>Casting (Type Conversions) in Python</li>\n",
    "  <li>Variable Assignment</li>\n",
    "  <li>Python Operators</li>\n",
    "</ol>\n",
    "<br>\n",
    "\n",
    "<b>Section 3: </b><a href=\"#Python-Objects\"><font size=\"+1\">Python Objects</font></a>\n",
    "<br>\n",
    "<ol>\n",
    "    <li>Lists</li>\n",
    "    <li>Tuples</li>\n",
    "    <li>Accessing Values in Lists and Tuples</li>\n",
    "    <li>Dictionaries</li>\n",
    "    <li>Keeping Track of Objects</li>\n",
    "    <li>General Purpose Objects</li>\n",
    "</ol>\n",
    "<br>\n",
    "\n",
    "<b>Section 4: </b><a href=\"# Sequence, Selection, Iteration\"><font size=\"+1\">Sequence, Selection, Iteration</font></a>\n",
    "<br>\n",
    "<ol>\n",
    "    <li>The 3 Contructs</li>\n",
    "    <li>Sequence</li>\n",
    "    <li>Selection</li>\n",
    "    <li>Iteration</li>\n",
    "    <li>Some Useful Commands</li>\n",
    "    <li>Functions and Parameters</li>\n",
    "</ol>\n",
    "<br>\n",
    "\n",
    "<a href=\"#Plan For Day 2\"><font size=\"+1\">Plan For Day 2</font></a>\n"
   ]
  },
  {
   "cell_type": "markdown",
   "metadata": {},
   "source": [
    "<b>Section 1:</b> \n",
    "\n",
    "# Background\n",
    "\n",
    "\n",
    "## 1.1 Learning objectives\n",
    "\n",
    "The goal of this session is to:\n",
    "\n",
    "* Familiarise with the Jupyter notebook, which is what we'll use to interact with python.\n",
    "* Be able to describe Python's basic data types - integers, floats, strings and Boolean.\n",
    "* Explore python's general data structure objects - lists, tuples, and dictionaries.\n",
    "* Be able to write simple statements in Python for sequence, selection and iteration\n",
    "* Take a first look at 'pandas', python's data manipulation and analysis library.\n",
    "    * The Series and DataFrame objects.\n",
    "    * Reading data into a dataframe using pandas.\n",
    "    * Getting information about dataframes.\n",
    "    \n",
    "\n",
    "## 1.2 Working with python\n",
    "\n",
    "Python is:\n",
    "\n",
    "* A general purpose programming language which has been designed for readability. \n",
    "* Created by Guido Van Rossum who chose the name (refering to Monty Python) to indicate that Python should be fun to use.\n",
    "* Python is interoperable across multiple computing platforms (e.g. Windows, Mac, Linux)\n",
    "* Used by many people, giving it a large user base.\n",
    "* Open-source - It is much more cost effective and easier to maintain than SAS and SPSS\n",
    "* Extensible - A broad range of modules: Data Management, Visualisation, Statistics, Machine Learning, Scientific Computing...\n",
    "* High-level - Concise expressions compared to low-level languages (e.g. c, java etc.) giving greater productivity.\n",
    "\n",
    "There are a number of different ways of interacting with python, in fact your anaconda install gives you three different options:\n",
    "* Jupyter notebook - a straightforward browser-based interactive python environment great for data analysis tasks.\n",
    "* IPython qtconsole - a stripped-down, command line python application, suitable for more advanced users. \n",
    "* Spyder - a python IDE (integrated development environment), for fully-featured software development."
   ]
  },
  {
   "cell_type": "code",
   "execution_count": 1,
   "metadata": {},
   "outputs": [
    {
     "name": "stdout",
     "output_type": "stream",
     "text": [
      "The Zen of Python, by Tim Peters\n",
      "\n",
      "Beautiful is better than ugly.\n",
      "Explicit is better than implicit.\n",
      "Simple is better than complex.\n",
      "Complex is better than complicated.\n",
      "Flat is better than nested.\n",
      "Sparse is better than dense.\n",
      "Readability counts.\n",
      "Special cases aren't special enough to break the rules.\n",
      "Although practicality beats purity.\n",
      "Errors should never pass silently.\n",
      "Unless explicitly silenced.\n",
      "In the face of ambiguity, refuse the temptation to guess.\n",
      "There should be one-- and preferably only one --obvious way to do it.\n",
      "Although that way may not be obvious at first unless you're Dutch.\n",
      "Now is better than never.\n",
      "Although never is often better than *right* now.\n",
      "If the implementation is hard to explain, it's a bad idea.\n",
      "If the implementation is easy to explain, it may be a good idea.\n",
      "Namespaces are one honking great idea -- let's do more of those!\n"
     ]
    }
   ],
   "source": [
    "# Execute this code cell from the 'zen' of python\n",
    "import this"
   ]
  },
  {
   "cell_type": "markdown",
   "metadata": {},
   "source": [
    "## 1.3 Jupyter Notebooks\n",
    "\n",
    "You're going to be using Jupyter 'notebooks' in this training, because they allow you to author and execute: python code to perform data analysis tasks; and, descriptive material to support the code, using a simple language called 'markdown'.\n",
    "\n",
    "Jupyter Notebook gives the opportunity to combine code and description in a single human-readable notebook. You can conduct analysis and give interpretation side-by-side. \n",
    "\n",
    "This means that your entire analytical approach can be documented together, from raw data input to analysis model outputs, and from initial assumptions to interpretation of results and conclusions. This also means that notebooks are great for sharing analysis, as the approach taken can be clearly and transparently documented both in code, with supporting text.\n",
    "\n",
    "### Working with notebooks\n",
    "\n",
    "* **Creating New Notebooks** - Navigate to where you'd like to create a new notebook, select the 'New &#9660;' button towards the top-right of the screen and choose 'Python 3', this will open a new, untitled notebook in a new tab.\n",
    "\n",
    "***Basic tools***\n",
    "\n",
    "* **Saving Notebooks** File -> Save and Checkpoint, or click the save icon (the floppy disk), or Ctrl + s.\n",
    " * Notebooks are saved into your user area (e.g C:/Users/[YourName]) by default\n",
    " \n",
    "\n",
    "* **(re)Naming Notebooks** Just click on the title (e.g. 'Intro_to_Python_1.1', 'Untitled' etc.) at the top of the page and type the name you'd like. This will be used to save the notebook, as the chosen name + '.ipynb' (ipython notebook, the file type).\n",
    "\n",
    "\n",
    "* **Adding New Cells** Either click the **+** button, or use insert -> Insert Cell Above/Below.\n",
    "\n",
    "Importantly, there are two types of cell you should be aware of: code cells, and markdown cells.\n",
    "\n",
    "* **Code Cells** are what you type python code into.\n",
    "* **Markdown Cells** are where you write supporting text, equations etc.\n",
    "\n",
    "You can toggle between Code and Markdown cells (and others that we won't cover here) using the drop-down box on the toolbar above.\n",
    "\n",
    "Finally, it is useful to mention that notebooks have 2 'modes': edit mode and command mode.\n",
    "\n",
    "* A cell in **Edit Mode** has a green border and a cursor in the cell indicating that you can write in the cell.\n",
    "* A cell in **Command Mode** has a blue border, this indicates that you are not editing a specific cell, but instead allows you to control the properties of the whole notebook using keyboard shortcuts.\n",
    "\n",
    "Most of the time you'll be using edit mode, this is the default when you click into a cell and start typing code. Command mode is really for more advanced users who have memorised some of the notebook keyboard shortcuts. To enter command mode, you can either click outside of the cell space (i.e. on the grey border space), or press Esc when you are editing a cell.\n",
    "\n",
    "Speaking of which, you can see all the keyboard shortcuts, and get other help on notebooks from Help in the menu bar above. Try Help -> Keyboard Shortcuts."
   ]
  },
  {
   "cell_type": "markdown",
   "metadata": {},
   "source": [
    "# 1.4 Markdown\n",
    "\n",
    "Markdown is what we've used to produce all the descriptive text in this notebook. \n",
    "\n",
    "Markdown is a really simple 'markup' language. This means that you can write in plain text and provide some formatting instructions which change how the text is displayed once the cell is executed. Here are a few pointers on how to use it to create your own markdown supporting text.\n",
    "\n",
    "* Try creating a new cell and make it a 'Markdown' cell using the drop-down box on the toolbar at the top of the notebook.\n",
    "* Then, type some text in and then press Ctrl + Enter. See have executing the cell renders the text?\n",
    "\n",
    "There are a range of ways you can decorate plain text to produce formatted text when executed. Try:\n",
    "\n",
    "* Putting 1. or more # at the start of a line, then typing after it (e.g. ### A third level header)\n",
    "* Surrounding a word or phrase with asterisks, e.g. \\*hello world\\*\n",
    "* What about two asterisks? e.g. \\*\\*hello world\\*\\*\n",
    "* Try creating a bullet list by starting a line with an asterisk (e.g. * item 1) or a numbered list (e.g. 1. item 1)\n",
    "\n",
    "There's loads that Markdown can represent, including embedding images and equations ($a^{2} + b^{2} = c^{2}$). From the toolbar choose Help -> Markdown to see some detailed information on using Markdown.\n",
    "\n",
    "You can edit existing Markdown too, just double-click into the cell, amend it, and then Ctrl-Enter or Shift-Enter to remake the output."
   ]
  },
  {
   "cell_type": "markdown",
   "metadata": {},
   "source": [
    "<b>Section 2:</b> \n",
    "\n",
    "# Basic Python\n",
    "\n",
    "\n",
    "## 2.1  Numeric Values\n",
    "\n",
    "We can use Python as a basic calculator by entering values into the cells. This doesn't store any of the information, other than in the notebook cell, rather you're just passing information to the python interpreter and receiving an answer.\n",
    "\n",
    "Python has  - \n",
    "* ints (integers, whole numbers) e.g 6, 12, 100000, 8960005060030102\n",
    "* floats (floating-point numbers, decimal numbers) e.g 3.4, 7.8, 3.14, 98.99997\n",
    "\n",
    "We can use mathematical expressions\n",
    "\n",
    "* \\+ for addition\n",
    "* \\- for subtraction\n",
    "* \\* for multiplication\n",
    "* / for division\n",
    "* \\*\\* for powers and roots\n",
    "\n",
    "Plus, loads of other useful operators, including:\n",
    "\n",
    "* () Brackets for order of operations  \n",
    "* % modulo - remainder in integer division (e.g. 11%4 = 3, because 11 fully divides by 4 twice with 3 remaining) \n",
    "* // Floor Division (Rounds down to the nearest integer, e.g. 12/5 = 2.4 but 12//4 = 2)\n",
    "\n",
    "And, some built-in functions:\n",
    "* `abs(`_number_`)` - get the absolute value of a number.\n",
    "* `divmod(`_dividend_, _divisor_`)` - get the quotient and remainder from integer division. Combines floor division and modulo.\n",
    "* `pow(`_number_, _power_`)` - function version of _number_\\*\\*_power_\n",
    "* `round(`_number_, _ndigits_`)` - round a floating-point number to _ndigits_ number of decimal places.\n",
    "\n",
    " Some key Python libratries for number manipulation and mathematical operations are (use import to make available for use):-\n",
    " \n",
    " \n",
    " import math    <br>\n",
    " import random  <br>\n",
    " \n",
    " See link https://www.programiz.com/python-programming/numbers  for further information.\n",
    " "
   ]
  },
  {
   "cell_type": "code",
   "execution_count": 3,
   "metadata": {
    "collapsed": true
   },
   "outputs": [],
   "source": [
    "import random\n",
    "import math\n"
   ]
  },
  {
   "cell_type": "code",
   "execution_count": 4,
   "metadata": {},
   "outputs": [
    {
     "data": {
      "text/plain": [
       "12"
      ]
     },
     "execution_count": 4,
     "metadata": {},
     "output_type": "execute_result"
    }
   ],
   "source": [
    "# Addition of ints (produces an int)\n",
    "9+3"
   ]
  },
  {
   "cell_type": "code",
   "execution_count": 5,
   "metadata": {},
   "outputs": [
    {
     "name": "stdout",
     "output_type": "stream",
     "text": [
      "(4, 0)\n"
     ]
    }
   ],
   "source": [
    "print(divmod(20, 5))"
   ]
  },
  {
   "cell_type": "code",
   "execution_count": 6,
   "metadata": {},
   "outputs": [
    {
     "name": "stdout",
     "output_type": "stream",
     "text": [
      "-0.9524129804151563\n",
      "3.0\n",
      "3.141592653589793\n",
      "3.807354922057604\n"
     ]
    }
   ],
   "source": [
    "\n",
    "print(math.cos(60))\n",
    "print (math.sqrt(9))\n",
    "print (math.pi)\n",
    "print (math.log2(14))"
   ]
  },
  {
   "cell_type": "code",
   "execution_count": 7,
   "metadata": {},
   "outputs": [
    {
     "data": {
      "text/plain": [
       "34.6"
      ]
     },
     "execution_count": 7,
     "metadata": {},
     "output_type": "execute_result"
    }
   ],
   "source": [
    "abs(34.6)"
   ]
  },
  {
   "cell_type": "code",
   "execution_count": null,
   "metadata": {
    "collapsed": true
   },
   "outputs": [],
   "source": [
    "# Addition of Floats (produces a float)\n"
   ]
  },
  {
   "cell_type": "code",
   "execution_count": 8,
   "metadata": {},
   "outputs": [
    {
     "name": "stdout",
     "output_type": "stream",
     "text": [
      "Enter a value: 3\n"
     ]
    }
   ],
   "source": [
    "x= input(\"Enter a value: \")"
   ]
  },
  {
   "cell_type": "code",
   "execution_count": 9,
   "metadata": {},
   "outputs": [
    {
     "data": {
      "text/plain": [
       "'3'"
      ]
     },
     "execution_count": 9,
     "metadata": {},
     "output_type": "execute_result"
    }
   ],
   "source": [
    "x"
   ]
  },
  {
   "cell_type": "code",
   "execution_count": 10,
   "metadata": {},
   "outputs": [
    {
     "name": "stdout",
     "output_type": "stream",
     "text": [
      "2.25\n"
     ]
    }
   ],
   "source": [
    "print (pow(3,2)/2**2)"
   ]
  },
  {
   "cell_type": "code",
   "execution_count": null,
   "metadata": {
    "collapsed": true
   },
   "outputs": [],
   "source": [
    "# Addition of Ints and Floats (produces...?)\n"
   ]
  },
  {
   "cell_type": "code",
   "execution_count": 11,
   "metadata": {},
   "outputs": [
    {
     "data": {
      "text/plain": [
       "3"
      ]
     },
     "execution_count": 11,
     "metadata": {},
     "output_type": "execute_result"
    }
   ],
   "source": [
    "11%4"
   ]
  },
  {
   "cell_type": "code",
   "execution_count": 13,
   "metadata": {},
   "outputs": [
    {
     "data": {
      "text/plain": [
       "9.7123"
      ]
     },
     "execution_count": 13,
     "metadata": {},
     "output_type": "execute_result"
    }
   ],
   "source": [
    "round (3+6.71234, 4)"
   ]
  },
  {
   "cell_type": "code",
   "execution_count": 14,
   "metadata": {},
   "outputs": [
    {
     "data": {
      "text/plain": [
       "9"
      ]
     },
     "execution_count": 14,
     "metadata": {},
     "output_type": "execute_result"
    }
   ],
   "source": [
    "3**2"
   ]
  },
  {
   "cell_type": "code",
   "execution_count": 15,
   "metadata": {},
   "outputs": [
    {
     "name": "stdout",
     "output_type": "stream",
     "text": [
      "9\n"
     ]
    }
   ],
   "source": [
    "print (pow(3,2))"
   ]
  },
  {
   "cell_type": "code",
   "execution_count": 16,
   "metadata": {},
   "outputs": [
    {
     "name": "stdout",
     "output_type": "stream",
     "text": [
      "1\n",
      "4\n",
      "72.77400061270008\n",
      "red\n",
      "[44, 29, 20]\n"
     ]
    }
   ],
   "source": [
    "import random\n",
    "print(random.randrange(1, 10,5))\n",
    "print(random.randint(3, 90))\n",
    "print(random.uniform(20, 160))\n",
    "print (random.choice( ['red', 'black', 'green'] ))\n",
    "print (random.sample(range(1, 100), 3))"
   ]
  },
  {
   "cell_type": "code",
   "execution_count": 17,
   "metadata": {},
   "outputs": [
    {
     "data": {
      "text/plain": [
       "5.0"
      ]
     },
     "execution_count": 17,
     "metadata": {},
     "output_type": "execute_result"
    }
   ],
   "source": [
    "45/9"
   ]
  },
  {
   "cell_type": "code",
   "execution_count": 18,
   "metadata": {},
   "outputs": [
    {
     "data": {
      "text/plain": [
       "0"
      ]
     },
     "execution_count": 18,
     "metadata": {},
     "output_type": "execute_result"
    }
   ],
   "source": [
    "9%3"
   ]
  },
  {
   "cell_type": "code",
   "execution_count": 19,
   "metadata": {},
   "outputs": [
    {
     "data": {
      "text/plain": [
       "3"
      ]
     },
     "execution_count": 19,
     "metadata": {},
     "output_type": "execute_result"
    }
   ],
   "source": [
    "11//3"
   ]
  },
  {
   "cell_type": "markdown",
   "metadata": {},
   "source": [
    "## 2.2 Text Values\n",
    "\n",
    "In python, we refer to text as 'string' data, this is because they are sequences of characters strung together.\n",
    "* Strings are ordered sequences of characters (letters, numbers, punctuation, whitespace and other special symbols).\n",
    "* Strings are immutable.\n",
    "* Use [ ] to access characters in a string\n",
    "* %\tsymbol - performs String formatting\n",
    "* Strings needs to be enclosed in apostrophes (' ') or quotation marks (\" \")\n",
    "    * It doesn't matter which, so long as you're consistent. You can't start with ' and end with \"!\n",
    "    * 'hello world!' is the same as \"hello world!\"\n",
    "\n",
    "Strings can be manipulated with some arithmetic operators:\n",
    "* \\+ concatenates strings (joins them together).\n",
    "* \\* repeats a given string *n* times.\n",
    "\n",
    "Strings are *objects* and so have a number of built-in *methods* for manipulating them.\n",
    "* Use a '.' to access the string object's methods, e.g.\n",
    "    * *string*`.lower()` transforms a string to all lowercase.\n",
    "    * *string*`.upper()` transforms a string to all UPPERCASE.\n",
    "    * *string*`.title()` transforms a string to Title Case.\n",
    "* Some string methods require parameters, e.g.\n",
    "    * *string*`.count('a')` counts the number of 'a'characters in the string, returning an integer.\n",
    "    * *string*`.replace(\" \",\"_\")` replaces any spaces in the string with underscores.\n",
    "    * *string*`.split(\" \")` splits the string wherever a a space is found. Results in a list of elements split on space.\n",
    "    \n",
    "\n",
    "There are loads more string methods, see: https://docs.python.org/3/library/stdtypes.html#string-methods  or\n",
    "https://www.pythonforbeginners.com/basics/string-manipulation-in-python for more info.\n",
    "\n",
    "\n",
    "The format() method takes the passed arguments, formats them, and places them in the string where the placeholders { } are.\n",
    "\n"
   ]
  },
  {
   "cell_type": "code",
   "execution_count": 20,
   "metadata": {},
   "outputs": [
    {
     "name": "stdout",
     "output_type": "stream",
     "text": [
      "glasgowglasgow\n"
     ]
    }
   ],
   "source": [
    "# Enter a string here with quotation marks \"\"\n",
    "city= 'glasgow'\n",
    "city2=\"glasgow\"\n",
    "print (city +city2)\n",
    "\n"
   ]
  },
  {
   "cell_type": "code",
   "execution_count": 21,
   "metadata": {},
   "outputs": [
    {
     "ename": "TypeError",
     "evalue": "'str' object does not support item assignment",
     "output_type": "error",
     "traceback": [
      "\u001b[1;31m---------------------------------------------------------------------------\u001b[0m",
      "\u001b[1;31mTypeError\u001b[0m                                 Traceback (most recent call last)",
      "\u001b[1;32m<ipython-input-21-4e1fe4509dbf>\u001b[0m in \u001b[0;36m<module>\u001b[1;34m()\u001b[0m\n\u001b[1;32m----> 1\u001b[1;33m \u001b[0mcity\u001b[0m\u001b[1;33m[\u001b[0m\u001b[1;36m2\u001b[0m\u001b[1;33m]\u001b[0m \u001b[1;33m=\u001b[0m \u001b[1;34m'G'\u001b[0m\u001b[1;33m\u001b[0m\u001b[0m\n\u001b[0m",
      "\u001b[1;31mTypeError\u001b[0m: 'str' object does not support item assignment"
     ]
    }
   ],
   "source": [
    "city[2] = 'G'"
   ]
  },
  {
   "cell_type": "code",
   "execution_count": null,
   "metadata": {
    "collapsed": true
   },
   "outputs": [],
   "source": [
    "# Now with apostrophes ''\n"
   ]
  },
  {
   "cell_type": "code",
   "execution_count": 22,
   "metadata": {},
   "outputs": [
    {
     "ename": "TypeError",
     "evalue": "'str' object does not support item assignment",
     "output_type": "error",
     "traceback": [
      "\u001b[1;31m---------------------------------------------------------------------------\u001b[0m",
      "\u001b[1;31mTypeError\u001b[0m                                 Traceback (most recent call last)",
      "\u001b[1;32m<ipython-input-22-45b8c6d529b8>\u001b[0m in \u001b[0;36m<module>\u001b[1;34m()\u001b[0m\n\u001b[0;32m      1\u001b[0m \u001b[0mname\u001b[0m\u001b[1;33m=\u001b[0m \u001b[1;34m'tom'\u001b[0m\u001b[1;33m\u001b[0m\u001b[0m\n\u001b[1;32m----> 2\u001b[1;33m \u001b[0mname\u001b[0m\u001b[1;33m[\u001b[0m\u001b[1;36m0\u001b[0m\u001b[1;33m]\u001b[0m\u001b[1;33m=\u001b[0m\u001b[1;34m'p'\u001b[0m\u001b[1;33m\u001b[0m\u001b[0m\n\u001b[0m",
      "\u001b[1;31mTypeError\u001b[0m: 'str' object does not support item assignment"
     ]
    }
   ],
   "source": [
    "name= 'tom'\n",
    "name[0]='p'\n"
   ]
  },
  {
   "cell_type": "code",
   "execution_count": 23,
   "metadata": {},
   "outputs": [
    {
     "data": {
      "text/plain": [
       "'Data Science Campus'"
      ]
     },
     "execution_count": 23,
     "metadata": {},
     "output_type": "execute_result"
    }
   ],
   "source": [
    "# We can use the + symbol here too - but it works differently!\n",
    "\"Data\" + \" Science \" + \"Campus\""
   ]
  },
  {
   "cell_type": "code",
   "execution_count": 24,
   "metadata": {},
   "outputs": [
    {
     "data": {
      "text/plain": [
       "'ONSONSONSONSONS'"
      ]
     },
     "execution_count": 24,
     "metadata": {},
     "output_type": "execute_result"
    }
   ],
   "source": [
    "# Multiplication too!\n",
    "\"ONS\" * 5"
   ]
  },
  {
   "cell_type": "code",
   "execution_count": 25,
   "metadata": {},
   "outputs": [
    {
     "data": {
      "text/plain": [
       "'ons'"
      ]
     },
     "execution_count": 25,
     "metadata": {},
     "output_type": "execute_result"
    }
   ],
   "source": [
    "#.lower()\n",
    "'ONS'.lower()"
   ]
  },
  {
   "cell_type": "code",
   "execution_count": 26,
   "metadata": {},
   "outputs": [
    {
     "data": {
      "text/plain": [
       "'ONS'"
      ]
     },
     "execution_count": 26,
     "metadata": {},
     "output_type": "execute_result"
    }
   ],
   "source": [
    "#.upper()\n",
    "'ons'.upper()"
   ]
  },
  {
   "cell_type": "code",
   "execution_count": 27,
   "metadata": {},
   "outputs": [
    {
     "data": {
      "text/plain": [
       "1"
      ]
     },
     "execution_count": 27,
     "metadata": {},
     "output_type": "execute_result"
    }
   ],
   "source": [
    "#.count()\n",
    "'ons'.count('o')"
   ]
  },
  {
   "cell_type": "code",
   "execution_count": null,
   "metadata": {
    "collapsed": true
   },
   "outputs": [],
   "source": [
    "#.replace()\n",
    "'ons'.replace('o','0')"
   ]
  },
  {
   "cell_type": "code",
   "execution_count": 28,
   "metadata": {},
   "outputs": [
    {
     "name": "stdout",
     "output_type": "stream",
     "text": [
      "d-a-t-a- -s-c-i-e-n-c-e\n",
      "g e e k s\n"
     ]
    }
   ],
   "source": [
    "#' '.join(s)\n",
    "\n",
    "print ('-'.join('data science'))\n",
    "list1 = ['g','e','e','k', 's']  \n",
    "print(\" \".join(list1)) "
   ]
  },
  {
   "cell_type": "code",
   "execution_count": 34,
   "metadata": {
    "collapsed": true
   },
   "outputs": [],
   "source": [
    "quantity = 3\n",
    "itemno = 567\n",
    "price = 49.77"
   ]
  },
  {
   "cell_type": "code",
   "execution_count": 30,
   "metadata": {},
   "outputs": [
    {
     "name": "stdout",
     "output_type": "stream",
     "text": [
      "49.8\n"
     ]
    }
   ],
   "source": [
    "print (round(price, 1))"
   ]
  },
  {
   "cell_type": "code",
   "execution_count": 32,
   "metadata": {},
   "outputs": [
    {
     "name": "stdout",
     "output_type": "stream",
     "text": [
      "I want to pay I want to pay 3 dollars\n"
     ]
    }
   ],
   "source": [
    "print(\"I want to pay\",\"I want to pay\", quantity, \"dollars\") "
   ]
  },
  {
   "cell_type": "code",
   "execution_count": 33,
   "metadata": {},
   "outputs": [
    {
     "name": "stdout",
     "output_type": "stream",
     "text": [
      "I want to pay 49 dollars for 3 pieces of item 567.\n"
     ]
    }
   ],
   "source": [
    "print(\"I want to pay %d dollars for %d pieces of item %s.\" % (price, quantity, itemno))"
   ]
  },
  {
   "cell_type": "code",
   "execution_count": 35,
   "metadata": {},
   "outputs": [
    {
     "name": "stdout",
     "output_type": "stream",
     "text": [
      "I want to pay 49.77 dollars for 3 pieces of item 567.\n"
     ]
    }
   ],
   "source": [
    "myorder = \"I want to pay {2} dollars for {0} pieces of item {1}.\"\n",
    "print(myorder.format(quantity, itemno, price))"
   ]
  },
  {
   "cell_type": "code",
   "execution_count": 36,
   "metadata": {},
   "outputs": [
    {
     "data": {
      "text/plain": [
       "'Hello, Eric. You are 74.'"
      ]
     },
     "execution_count": 36,
     "metadata": {},
     "output_type": "execute_result"
    }
   ],
   "source": [
    "#f-Strings: A New and Improved Way to Format Strings in Python\n",
    "name = \"Eric\"\n",
    "age = 74\n",
    "f\"Hello, {name}. You are {age}.\""
   ]
  },
  {
   "cell_type": "code",
   "execution_count": 37,
   "metadata": {},
   "outputs": [
    {
     "data": {
      "text/plain": [
       "'The comedian is Eric Idle, aged 74.'"
      ]
     },
     "execution_count": 37,
     "metadata": {},
     "output_type": "execute_result"
    }
   ],
   "source": [
    "comedian = {'name': 'Eric Idle', 'age': 74}\n",
    "f\"The comedian is {comedian['name']}, aged {comedian['age']}.\""
   ]
  },
  {
   "cell_type": "code",
   "execution_count": 39,
   "metadata": {},
   "outputs": [
    {
     "name": "stdout",
     "output_type": "stream",
     "text": [
      "The comedian is Eric Idle, aged 74.\n",
      "hello 1.5\n"
     ]
    }
   ],
   "source": [
    "print(f\"The comedian is {comedian['name']}, aged {comedian['age']}.\")\n",
    "print ('hello', 3/2)"
   ]
  },
  {
   "cell_type": "code",
   "execution_count": null,
   "metadata": {
    "collapsed": true
   },
   "outputs": [],
   "source": [
    "#simple explan"
   ]
  },
  {
   "cell_type": "markdown",
   "metadata": {},
   "source": [
    "## this is the beginning\n",
    "\n",
    "\n",
    "\n",
    "\n"
   ]
  },
  {
   "cell_type": "code",
   "execution_count": 40,
   "metadata": {},
   "outputs": [
    {
     "name": "stdout",
     "output_type": "stream",
     "text": [
      "3.0\n"
     ]
    }
   ],
   "source": [
    "print (math.sqrt(9))"
   ]
  },
  {
   "cell_type": "markdown",
   "metadata": {},
   "source": [
    "## 2.3 Logical Values\n",
    "\n",
    "Logical values or \"Boolean values\" (NB Boolean is capitalised as it refers to logician George Boole).\n",
    "\n",
    "In python these are written as `True` and `False`.\n",
    "\n",
    "They are special python data types - not strings! So they don't need ' ' or \" \" around them.\n",
    "\n",
    "They also have numerics behind them - True is 1 and False is 0."
   ]
  },
  {
   "cell_type": "code",
   "execution_count": 41,
   "metadata": {},
   "outputs": [
    {
     "data": {
      "text/plain": [
       "2"
      ]
     },
     "execution_count": 41,
     "metadata": {},
     "output_type": "execute_result"
    }
   ],
   "source": [
    "# You can add them together\n",
    "continue1 = True\n",
    "True + True"
   ]
  },
  {
   "cell_type": "code",
   "execution_count": 42,
   "metadata": {},
   "outputs": [
    {
     "data": {
      "text/plain": [
       "2.5"
      ]
     },
     "execution_count": 42,
     "metadata": {},
     "output_type": "execute_result"
    }
   ],
   "source": [
    "# In fact you can attempt any arithmetic operations with booleans\n",
    "# This owes to their underlying numeric value of either 1 or 0.\n",
    "True * 2.5"
   ]
  },
  {
   "cell_type": "code",
   "execution_count": null,
   "metadata": {
    "collapsed": true
   },
   "outputs": [],
   "source": [
    "# Try testing True and True or False and False\n"
   ]
  },
  {
   "cell_type": "code",
   "execution_count": 43,
   "metadata": {},
   "outputs": [
    {
     "data": {
      "text/plain": [
       "False"
      ]
     },
     "execution_count": 43,
     "metadata": {},
     "output_type": "execute_result"
    }
   ],
   "source": [
    "# Try testing False and True\n",
    "True and False"
   ]
  },
  {
   "cell_type": "code",
   "execution_count": 44,
   "metadata": {},
   "outputs": [
    {
     "name": "stdout",
     "output_type": "stream",
     "text": [
      "True\n",
      "False\n",
      "False\n"
     ]
    }
   ],
   "source": [
    "print(10 > 9)\n",
    "print(10 == 9)\n",
    "print(10 < 9)"
   ]
  },
  {
   "cell_type": "code",
   "execution_count": 52,
   "metadata": {},
   "outputs": [
    {
     "data": {
      "text/plain": [
       "str"
      ]
     },
     "execution_count": 52,
     "metadata": {},
     "output_type": "execute_result"
    }
   ],
   "source": [
    "type(name)"
   ]
  },
  {
   "cell_type": "code",
   "execution_count": 53,
   "metadata": {
    "collapsed": true
   },
   "outputs": [],
   "source": [
    "name =12"
   ]
  },
  {
   "cell_type": "code",
   "execution_count": 54,
   "metadata": {},
   "outputs": [
    {
     "data": {
      "text/plain": [
       "int"
      ]
     },
     "execution_count": 54,
     "metadata": {},
     "output_type": "execute_result"
    }
   ],
   "source": [
    "type (name)"
   ]
  },
  {
   "cell_type": "code",
   "execution_count": null,
   "metadata": {
    "collapsed": true
   },
   "outputs": [],
   "source": [
    "('/n')"
   ]
  },
  {
   "cell_type": "markdown",
   "metadata": {},
   "source": [
    "# Exercise 1\n",
    "\n",
    "\n",
    "1. Take 2 integers and multiply. Print the result.\n",
    "\n",
    "2. Divide 9 raised to the power 2 (numerator) divided by 2 raised to the power 2 (denominator). Use the '/' for divide and round to 1 decimal place.\n",
    "\n",
    "3. Find remainder of division, 91 divided by 2.\n",
    "\n",
    "4. Using the string 'Department for International Developemnt\".\n",
    "\n",
    "        Lowercase the whole string\n",
    "        Replace 'department' with 'dept'\n",
    "        Count the number of times the letter 'd' is used in the string\n",
    "\n",
    "5. Generate 2 random numbers within certain intervals using the randrange method from the random library, add them and print output.\n",
    "\n",
    "For example <br>\n",
    "\n",
    "```python\n",
    "import random\n",
    "print(random.randrange(3, 9))\n",
    "```\n"
   ]
  },
  {
   "cell_type": "markdown",
   "metadata": {},
   "source": [
    "## 2.4 Casting (Type Conversion) in python\n",
    "\n",
    "Python doesn't require you to set the data type when you create it, instead it figures out what the best data type is for the object you are creating - int, float, string, Boolean etc.\n",
    "\n",
    "Sometimes you want to ensure that a particular object is actually a certain type, rather than leaving it up to python. This is does via casting. Python has a range of in-built functions that enable you to cast data from one type to another.\n",
    "\n",
    "Firstly, the `type()` function will tell you what a given object is.\n",
    "\n",
    "Then, if it is allowed, you can convert that object to a specific data type using:\n",
    "* `int()`\n",
    "* `float()`\n",
    "* `str()`\n",
    "* `bool()`\n",
    "\n",
    "Obviously, you can't turn strings into numbers, unless the string in question is a numeric value stored as a string (e.g. '3' instead of 3).\n",
    "\n",
    "Some transformations make sense, ints into floats and vice versa.\n",
    "\n",
    "However, try turning numbers and text into Booleans, or make `True` or `False` a string, what do you think will happen? "
   ]
  },
  {
   "cell_type": "code",
   "execution_count": null,
   "metadata": {
    "collapsed": true
   },
   "outputs": [],
   "source": [
    "# Learn the type of different objects\n",
    "type(True)"
   ]
  },
  {
   "cell_type": "code",
   "execution_count": 55,
   "metadata": {},
   "outputs": [
    {
     "name": "stdout",
     "output_type": "stream",
     "text": [
      "4\n"
     ]
    }
   ],
   "source": [
    "# Int from whole number float\n",
    "print(int(4.666))"
   ]
  },
  {
   "cell_type": "code",
   "execution_count": 56,
   "metadata": {},
   "outputs": [
    {
     "data": {
      "text/plain": [
       "7"
      ]
     },
     "execution_count": 56,
     "metadata": {},
     "output_type": "execute_result"
    }
   ],
   "source": [
    "# Int from decimal number float\n",
    "int(7.8)"
   ]
  },
  {
   "cell_type": "code",
   "execution_count": null,
   "metadata": {
    "collapsed": true
   },
   "outputs": [],
   "source": [
    "# Float from int\n",
    "float(7)"
   ]
  },
  {
   "cell_type": "code",
   "execution_count": 57,
   "metadata": {},
   "outputs": [
    {
     "data": {
      "text/plain": [
       "5"
      ]
     },
     "execution_count": 57,
     "metadata": {},
     "output_type": "execute_result"
    }
   ],
   "source": [
    "# int from string\n",
    "int('5')"
   ]
  },
  {
   "cell_type": "code",
   "execution_count": null,
   "metadata": {
    "collapsed": true
   },
   "outputs": [],
   "source": [
    "# float from string\n",
    "float(\"5.6\")"
   ]
  },
  {
   "cell_type": "code",
   "execution_count": 58,
   "metadata": {},
   "outputs": [
    {
     "data": {
      "text/plain": [
       "True"
      ]
     },
     "execution_count": 58,
     "metadata": {},
     "output_type": "execute_result"
    }
   ],
   "source": [
    "bool('3')"
   ]
  },
  {
   "cell_type": "code",
   "execution_count": null,
   "metadata": {
    "collapsed": true
   },
   "outputs": [],
   "source": [
    "# Try to find some transformation that python doesn't like.\n"
   ]
  },
  {
   "cell_type": "markdown",
   "metadata": {},
   "source": [
    "## 2.5 Variable Assignment\n",
    "\n",
    "* Variables store data values under a specific name:\n",
    "    * `name = 'Laura'` - here the variable `name` is storing the string `'Laura'`.\n",
    "    * `age = 21` - here the variable `age` is storing the integer `21`.\n",
    "    * `height = 1.80` - here the variable height is storing the float `1.80`.\n",
    "* Variables have to be assigned. Assignment is done with the `=` (equals) sign.\n",
    "* Once created, using a variable means getting the value of whatever it is storing.\n",
    "    * Inputting `height` into python will return `1.80` until the variable is either changed or deleted.\n",
    "* We can change the value of variables at any point by assigning it a new value.\n",
    "    * `height = 1.75` - reassigns the height variable to the value `1.75`\n",
    "    * `height = \"egg\"` - reassigns the height variable to the value `\"egg\"`\n",
    "    * `del height` - deletes the height variable, it is no longer in python's memory.\n",
    "* Variable names are case sensitive\n",
    "* Variable names can't start with a number (must start with an _ or a letter)\n",
    "* Can't use reserved words - like ` True, Class, Yield` which already mean something to python.\n",
    "* Should be descriptive (ideally).\n",
    "* Can be any length - but should be sensible!\n",
    "* Can look like this\n",
    "    * norwegianblue (lowercase)\n",
    "    * NORWEGIANBLUE (UPPERCASE)\n",
    "    * norwegianBlue (camelCase)\n",
    "    * NorwegianBlue (UpperCamelCase)\n",
    "    * norwegian_blue (snake_case, can also be Norwegian_Blue"
   ]
  },
  {
   "cell_type": "code",
   "execution_count": null,
   "metadata": {
    "collapsed": true
   },
   "outputs": [],
   "source": [
    "# Let's create some variables.\n"
   ]
  },
  {
   "cell_type": "code",
   "execution_count": 59,
   "metadata": {},
   "outputs": [
    {
     "name": "stdout",
     "output_type": "stream",
     "text": [
      " \n"
     ]
    }
   ],
   "source": [
    "name = ''\n",
    "surname = \"\"\n",
    "print(name + \" \" + surname)"
   ]
  },
  {
   "cell_type": "code",
   "execution_count": 60,
   "metadata": {},
   "outputs": [
    {
     "name": "stdout",
     "output_type": "stream",
     "text": [
      "Please enter your namesally\n",
      "Welcome to the Introduction to Python course  sally\n"
     ]
    }
   ],
   "source": [
    "name = input(\"Please enter your name\")\n",
    "print (\"Welcome to the Introduction to Python course \", name)"
   ]
  },
  {
   "cell_type": "code",
   "execution_count": null,
   "metadata": {
    "collapsed": true
   },
   "outputs": [],
   "source": []
  },
  {
   "cell_type": "code",
   "execution_count": 61,
   "metadata": {},
   "outputs": [
    {
     "name": "stdout",
     "output_type": "stream",
     "text": [
      "<class 'str'>\n",
      "5\n"
     ]
    }
   ],
   "source": [
    "#view some attributes of the string\n",
    "print (type(name))\n",
    "print (len(name))"
   ]
  },
  {
   "cell_type": "code",
   "execution_count": 62,
   "metadata": {},
   "outputs": [
    {
     "name": "stdout",
     "output_type": "stream",
     "text": [
      "s\n"
     ]
    }
   ],
   "source": [
    "print(name[0])"
   ]
  },
  {
   "cell_type": "code",
   "execution_count": 63,
   "metadata": {},
   "outputs": [
    {
     "ename": "TypeError",
     "evalue": "'str' object does not support item assignment",
     "output_type": "error",
     "traceback": [
      "\u001b[1;31m---------------------------------------------------------------------------\u001b[0m",
      "\u001b[1;31mTypeError\u001b[0m                                 Traceback (most recent call last)",
      "\u001b[1;32m<ipython-input-63-0c3fbfa37d05>\u001b[0m in \u001b[0;36m<module>\u001b[1;34m()\u001b[0m\n\u001b[0;32m      1\u001b[0m \u001b[1;31m#this does not work as string are immutable\u001b[0m\u001b[1;33m\u001b[0m\u001b[1;33m\u001b[0m\u001b[0m\n\u001b[0;32m      2\u001b[0m \u001b[0mword\u001b[0m \u001b[1;33m=\u001b[0m \u001b[1;34m'1000analyse'\u001b[0m\u001b[1;33m\u001b[0m\u001b[0m\n\u001b[1;32m----> 3\u001b[1;33m \u001b[0mword\u001b[0m\u001b[1;33m[\u001b[0m\u001b[1;36m5\u001b[0m\u001b[1;33m]\u001b[0m\u001b[1;33m=\u001b[0m \u001b[1;34m'z'\u001b[0m\u001b[1;33m\u001b[0m\u001b[0m\n\u001b[0m",
      "\u001b[1;31mTypeError\u001b[0m: 'str' object does not support item assignment"
     ]
    }
   ],
   "source": [
    "#this does not work as string are immutable\n",
    "word = '1000analyse'\n",
    "word[5]= 'z'"
   ]
  },
  {
   "cell_type": "code",
   "execution_count": 64,
   "metadata": {},
   "outputs": [
    {
     "name": "stdout",
     "output_type": "stream",
     "text": [
      "analyze\n"
     ]
    }
   ],
   "source": [
    "#do this instead\n",
    "word.replace('s','z')\n",
    "word = 'analyze'\n",
    "print (word)\n"
   ]
  },
  {
   "cell_type": "code",
   "execution_count": 65,
   "metadata": {},
   "outputs": [
    {
     "name": "stdout",
     "output_type": "stream",
     "text": [
      "analyze\n",
      "a\n",
      "ana\n",
      "ana\n",
      "analy\n",
      "analyze\n",
      "ze\n"
     ]
    }
   ],
   "source": [
    "#string manipulation\n",
    "print(word)\n",
    "print(word[0])\n",
    "print (word[0:3])\n",
    "print(word[:3])\n",
    "print(word[:-2])\n",
    "print (word[:])\n",
    "print(word[-2:])"
   ]
  },
  {
   "cell_type": "code",
   "execution_count": 66,
   "metadata": {},
   "outputs": [
    {
     "data": {
      "text/plain": [
       "True"
      ]
     },
     "execution_count": 66,
     "metadata": {},
     "output_type": "execute_result"
    }
   ],
   "source": [
    "#in operator\n",
    "'s' in name"
   ]
  },
  {
   "cell_type": "code",
   "execution_count": 67,
   "metadata": {},
   "outputs": [
    {
     "name": "stdout",
     "output_type": "stream",
     "text": [
      "sdfsdfsdfsddsdff\n",
      "dsfdfsdfs\n",
      "sdfsdf\n",
      "sdfsdf\n",
      "sdf\n"
     ]
    }
   ],
   "source": [
    "print ('''sdfsdfsdfsddsdff\n",
    "dsfdfsdfs\n",
    "sdfsdf\n",
    "sdfsdf\n",
    "sdf''')"
   ]
  },
  {
   "cell_type": "code",
   "execution_count": 68,
   "metadata": {},
   "outputs": [
    {
     "name": "stdout",
     "output_type": "stream",
     "text": [
      "hello \n",
      " by\n"
     ]
    }
   ],
   "source": [
    "print ('hello','\\n', 'by')"
   ]
  },
  {
   "cell_type": "markdown",
   "metadata": {},
   "source": [
    "## 2.6 Python Operators"
   ]
  },
  {
   "cell_type": "markdown",
   "metadata": {},
   "source": [
    "**https://www.w3schools.com/python/python_operators.asp**"
   ]
  },
  {
   "cell_type": "markdown",
   "metadata": {},
   "source": [
    "# Exercise 2\n",
    "\n",
    "\n",
    "1.\tPick an English word of your choice, put it into a suitably named string and print out last 3 characters. \n",
    "\n",
    "2.\tWhat is the output of the following code ? \n",
    "\n",
    "  ```python\n",
    "            word2 = \"pynative\"\n",
    "            print (word2[1:3])\n",
    "  ```\n",
    "\n",
    "3.\tCheck that the letter 'y' is in word 'pynative'\n",
    "        \n",
    "4.\tFind the length of word2.\n",
    "\n",
    "5.\tExtract the word 'office from 'foreign office' and concatenate with 'national statistics'. <br>\n"
   ]
  },
  {
   "cell_type": "markdown",
   "metadata": {},
   "source": [
    "<b>Section 3:</b> \n",
    "\n",
    "# Python Objects\n",
    "\n",
    "Object is the general name for data types, data structures, functions and so on that python stores in memory and references with an identifier. Technically, an object is a specific instance of a 'class', which is an abstract template for a data type, data structure etc. A class is a pattern for creating new objects that can be reused and extended.\n",
    "\n",
    "```python\n",
    "days_list = [\"Mon\", \"Tues\", \"Weds\", \"Thurs\", \"Fri\", \"Sat\", \"Sun\"]\n",
    "```\n",
    "`days_list` is the identifier for a python 'list' data structure (object) that in this case stores some text values.\n",
    "\n",
    "All objects have properties and methods, which relate to data that the object stores and behaviours (procedures) that can be performed on the object to get a specific output.\n",
    "\n",
    "Accessing the properties and methods of an object usually means using the '.' (dot notation). This means we type the name of the object we are interested in, put a dot, then type the name of the property or method we want to call.\n",
    "\n",
    "For instance, calling the `clear()` method of a list object named `fruit` would be achieved like this:\n",
    "```python\n",
    "fruit.clear()\n",
    "```\n",
    "This would have the effect of removing any items stored by the list `fruit`, emptying the list.\n",
    "\n",
    "Similarly, if we wanted to use the count method to count the number of times a particular item occured in a list, we might do the following:\n",
    "```python\n",
    "fruit = ['apple','apple','banana','orange'] # create a list called fruit.\n",
    "fruit.count('apple') # count the number of times that the string 'apple' occurs in the fruit list\n",
    "```\n",
    "In the above, we would expect the `.count()` method, with the parameter 'apple' to return the value 2, because 'apple' appears twice in the list `fruit`.\n",
    "\n",
    "Additionally, there are some special in-built python functions that interact with objects and perform special behaviours, like `print()` and `len()`, or the numeric functions (e.g. `pow()`) you've seen already.\n",
    "\n",
    "For example, calling the python `print()` function enables us to print a representation of an object based on how a given object behaves with respect to that function.\n",
    "\n",
    "Python sorted function declaration is as follows: <br>\n",
    "\n",
    "sorted(iterable[, key = None][, reverse = False])\n",
    "\n",
    "```python\n",
    "sample_str = ['Modi', 'Trump', 'Putin', 'Jinping']\n",
    "print(\"Default sort: \", sorted(sample_str))\n",
    "print(\"Reversed sort: \", sorted(sample_str, reverse = True))\n",
    "```\n",
    "\n",
    "## 3.1 Lists\n",
    "\n",
    "* The python list object is (possibly) the most versatile of the built in data structures.\n",
    "\n",
    "* It can hold any sequence of objects, including mixes of objects like strings, integers and Boolean variables together.\n",
    "\n",
    "* Lists can also hold other lists and dictionaries.\n",
    "\n",
    "* They can also hold custom data structures, and can be used to create custom data structures.\n",
    "\n",
    "* Lists are generally created, or 'instantiated', using square brackets `[]`.\n",
    "\n",
    "* A new list is considered to be an 'instance' of the list object.\n",
    "\n",
    "* Each item in the list is separated by a comma.\n",
    "\n",
    "* Lists can be amended (they are 'mutable' - they can be changed).\n",
    "\n",
    "* Technically, a string is a list of characters, this becomes clear if we explictly make it a list.\n",
    "\n",
    "* The *in* construct on its own is an easy way to test if an element appears in a list (or other collection) -- value in  collection -- tests if the value is in the collection, returning True/False."
   ]
  },
  {
   "cell_type": "code",
   "execution_count": 69,
   "metadata": {},
   "outputs": [
    {
     "name": "stdout",
     "output_type": "stream",
     "text": [
      "<class 'list'>\n",
      "['Mon', 'Tues', 'Weds', 'Thurs', 'Fri', 'Sat', 'Sun']\n",
      "7\n"
     ]
    }
   ],
   "source": [
    "# Create a list.\n",
    "days_list = [\"Mon\", \"Tues\", \"Weds\", \"Thurs\", \"Fri\", \"Sat\", \"Sun\"]\n",
    "print(type(days_list))\n",
    "print(days_list)\n",
    "print (len(days_list))"
   ]
  },
  {
   "cell_type": "code",
   "execution_count": 70,
   "metadata": {
    "collapsed": true
   },
   "outputs": [],
   "source": [
    "# A list of mixed objects\n",
    "mixed = [2,2.3,'string',True]"
   ]
  },
  {
   "cell_type": "code",
   "execution_count": 81,
   "metadata": {},
   "outputs": [],
   "source": [
    "# We can use the inbuilt function list() to convert a string to a list.\n",
    "mp = list(\"Monty Python\")\n",
    "\n",
    "text = 'this, a cat, a lovely cat'\n",
    "text =text.split(\",\")"
   ]
  },
  {
   "cell_type": "code",
   "execution_count": 82,
   "metadata": {},
   "outputs": [
    {
     "data": {
      "text/plain": [
       "['this', ' a cat', ' a lovely cat']"
      ]
     },
     "execution_count": 82,
     "metadata": {},
     "output_type": "execute_result"
    }
   ],
   "source": [
    "text"
   ]
  },
  {
   "cell_type": "code",
   "execution_count": 73,
   "metadata": {},
   "outputs": [
    {
     "name": "stdout",
     "output_type": "stream",
     "text": [
      "['M', 'o', 'n', 't', 'y', ' ', 'P', 'y', 't', 'h', 'o', 'n']\n"
     ]
    }
   ],
   "source": [
    "print (mp)"
   ]
  },
  {
   "cell_type": "markdown",
   "metadata": {},
   "source": [
    "There are a number of methods we can call on list objects, some important methods include:  \n",
    " * _list_`.append(object)` - adds an object to the end of the list.\n",
    " * _list_`.extend([objects])` - similar to append but contents of the list object is added not the list itself.\n",
    " * _list_`.insert(index, object)` - allows you to insert an object at a particular position in the list.\n",
    " * _list_`.pop(index)` - removes and returns the object at a particular position.\n",
    " <br>\n",
    " \n",
    " Some further methods that can be applied to Python lists are shown here:\n",
    "  <br>\n",
    "  \n",
    "  \n",
    " https://www.w3schools.com/python/python_arrays.asp\n",
    " <br>\n",
    " <br>\n",
    " \n",
    " \n",
    " \n",
    " "
   ]
  },
  {
   "cell_type": "code",
   "execution_count": 83,
   "metadata": {},
   "outputs": [
    {
     "data": {
      "text/plain": [
       "[10, 20, 30, 40, 50, 60, 70]"
      ]
     },
     "execution_count": 83,
     "metadata": {},
     "output_type": "execute_result"
    }
   ],
   "source": [
    "list_1 = [10, 20, 30, 40, 50, 60]\n",
    "list_1.append(70) # append integer object 70 to end of list\n",
    "list_1"
   ]
  },
  {
   "cell_type": "code",
   "execution_count": 94,
   "metadata": {
    "collapsed": true
   },
   "outputs": [],
   "source": [
    "list_1[0] =9999"
   ]
  },
  {
   "cell_type": "code",
   "execution_count": 95,
   "metadata": {},
   "outputs": [
    {
     "data": {
      "text/plain": [
       "[9999, 20, 30, 50, 60, 80]"
      ]
     },
     "execution_count": 95,
     "metadata": {},
     "output_type": "execute_result"
    }
   ],
   "source": [
    "list_1"
   ]
  },
  {
   "cell_type": "code",
   "execution_count": 84,
   "metadata": {},
   "outputs": [
    {
     "data": {
      "text/plain": [
       "[10, 20, 30, 40, 50, 60, 70, 80, 90, 100]"
      ]
     },
     "execution_count": 84,
     "metadata": {},
     "output_type": "execute_result"
    }
   ],
   "source": [
    "list_2 = [10, 20, 30, 40, 50, 60]\n",
    "list_2.extend([70, 80, 90, 100]) # extend list with items in second list.\n",
    "list_2"
   ]
  },
  {
   "cell_type": "code",
   "execution_count": 85,
   "metadata": {},
   "outputs": [
    {
     "data": {
      "text/plain": [
       "[10, 20, 30, 40, 50, 60, 70, 80, 90, 100, [10, 20, 30, 40, 50, 60, 70]]"
      ]
     },
     "execution_count": 85,
     "metadata": {},
     "output_type": "execute_result"
    }
   ],
   "source": [
    "# What will happen here?\n",
    "list_2.append(list_1)\n",
    "list_2"
   ]
  },
  {
   "cell_type": "code",
   "execution_count": 86,
   "metadata": {},
   "outputs": [
    {
     "data": {
      "text/plain": [
       "[5, 10, 20, 30, 40, 50, 60]"
      ]
     },
     "execution_count": 86,
     "metadata": {},
     "output_type": "execute_result"
    }
   ],
   "source": [
    "list_1 = [10, 20, 30, 40, 50, 60]\n",
    "list_1.insert(0, 5) # insert a 5 at index zero (the 1st position in python).\n",
    "list_1"
   ]
  },
  {
   "cell_type": "code",
   "execution_count": 87,
   "metadata": {},
   "outputs": [
    {
     "name": "stdout",
     "output_type": "stream",
     "text": [
      "40\n",
      "[10, 20, 30, 50, 60]\n"
     ]
    }
   ],
   "source": [
    "list_1 = [10, 20, 30, 40, 50, 60]\n",
    "value = list_1.pop(3) # remove the value at index 3 (the 4th index position) and store as a variable called value.\n",
    "print(value)\n",
    "print(list_1)"
   ]
  },
  {
   "cell_type": "code",
   "execution_count": 88,
   "metadata": {},
   "outputs": [
    {
     "data": {
      "text/plain": [
       "[10, 20, 30, 50, 60, 80]"
      ]
     },
     "execution_count": 88,
     "metadata": {},
     "output_type": "execute_result"
    }
   ],
   "source": [
    "# Note that arithmetic approaches can have similar results.\n",
    "list_1 += [80]\n",
    "list_1"
   ]
  },
  {
   "cell_type": "markdown",
   "metadata": {},
   "source": [
    "In the code above there is a common programming shortcut being employed: `+=`  \n",
    "The following two assignments are identical:\n",
    "```python\n",
    "list_1 = list_1 + [80]\n",
    "list_1 += [80]\n",
    "```\n",
    "Other possible assignments operators include: `-=`, `*=`, `/=`, `//=`, `**=` and a few others.\n",
    "\n",
    "However, only `+` and `*` are meaningful for list operations, so other assignment operators give errors. However, these assignment operators will work for updating a numeric value."
   ]
  },
  {
   "cell_type": "code",
   "execution_count": 89,
   "metadata": {
    "collapsed": true
   },
   "outputs": [],
   "source": [
    "# Starting values for cell below.\n",
    "lump_sum = 100\n",
    "interest = 1.025 # 2.5%"
   ]
  },
  {
   "cell_type": "code",
   "execution_count": 90,
   "metadata": {},
   "outputs": [
    {
     "data": {
      "text/plain": [
       "102.49999999999999"
      ]
     },
     "execution_count": 90,
     "metadata": {},
     "output_type": "execute_result"
    }
   ],
   "source": [
    "# Imagine this is a compund interest calculation.\n",
    "# Run this cell a few times and see the output value change.\n",
    "lump_sum *= interest\n",
    "lump_sum"
   ]
  },
  {
   "cell_type": "code",
   "execution_count": 91,
   "metadata": {
    "collapsed": true
   },
   "outputs": [],
   "source": [
    "#joinung 2 lists together\n",
    "numbersList = [1, 2, 3]\n",
    "numbers_tuple = ('ONE', 'TWO', 'THREE', 'FOUR')\n",
    "a=list(zip(numbersList, numbers_tuple))"
   ]
  },
  {
   "cell_type": "code",
   "execution_count": 92,
   "metadata": {},
   "outputs": [
    {
     "name": "stdout",
     "output_type": "stream",
     "text": [
      "[(1, 'ONE'), (2, 'TWO'), (3, 'THREE')] <class 'list'>\n"
     ]
    }
   ],
   "source": [
    "print (a, type (a))"
   ]
  },
  {
   "cell_type": "code",
   "execution_count": 93,
   "metadata": {},
   "outputs": [
    {
     "name": "stdout",
     "output_type": "stream",
     "text": [
      "['a', 'b', 'c', 'd', 'e', 'f', 'g', 'h']\n"
     ]
    }
   ],
   "source": [
    "sample_list = (\"h\", \"d\", \"c\", \"a\", \"b\", \"e\", \"f\", \"g\")\n",
    "out_list = sorted(sample_list)\n",
    "print(out_list)"
   ]
  },
  {
   "cell_type": "markdown",
   "metadata": {},
   "source": [
    "## 3.2 Tuples\n",
    "\n",
    "* Tuples are similar to lists, they can also hold any mixed sequence of objects.\n",
    "\n",
    "* However, tuples cannot be edited once created (immutable).\n",
    "\n",
    "* Tuples are created using parentheses () with items separated by commas.\n",
    "\n",
    "* The tuple() function can convert lists or strings to tuples.\n"
   ]
  },
  {
   "cell_type": "code",
   "execution_count": 98,
   "metadata": {},
   "outputs": [],
   "source": [
    "tuple1 = (\"Monday\", \"Tuesday\", \"Wednesday\")\n"
   ]
  },
  {
   "cell_type": "code",
   "execution_count": 99,
   "metadata": {},
   "outputs": [
    {
     "data": {
      "text/plain": [
       "('Monday', 'Tuesday', 'Wednesday')"
      ]
     },
     "execution_count": 99,
     "metadata": {},
     "output_type": "execute_result"
    }
   ],
   "source": [
    "tuple1"
   ]
  },
  {
   "cell_type": "code",
   "execution_count": 100,
   "metadata": {},
   "outputs": [
    {
     "data": {
      "text/plain": [
       "list"
      ]
     },
     "execution_count": 100,
     "metadata": {},
     "output_type": "execute_result"
    }
   ],
   "source": [
    "# You can convert to a list using list\n",
    "list_frm_tuple = list(tuple1)\n",
    "type(list_frm_tuple)"
   ]
  },
  {
   "cell_type": "markdown",
   "metadata": {},
   "source": [
    "## 3.3 Accessing Values in Lists and Tuples\n",
    "\n",
    "In addition to creating list objects, python also uses square brackets as an indexing operator.\n",
    "\n",
    "Therefore, to access a value in a list or tuple use the square brackets and the index (position) of the value you want to obtain e.g.\n",
    "```python\n",
    "vegetables= ['Carrot','Onion','Potato', 'Cauliflower']\n",
    "vegetables[1]\n",
    "```\n",
    "In the above list, the value obtained is `'Onion'` this is because python counts from zero:\n",
    "* `vegetable[0]` is 'Carrot'\n",
    "* `vegetable[1]` is 'Onion'\n",
    "* `vegetable[2]` is 'Potato'\n",
    "* `vegetable[3]` is 'Cauliflower'\n",
    "\n",
    "The same would apply if we had made a tuple instead of a list.\n",
    "\n",
    "If you are dealing with lists, you can also update the values in lists using indexing. This is because lists are mutable. e.g.\n",
    "```python\n",
    "vegetables= ['Carrot','Onion','Potato','Cauliflower']\n",
    "vegetables[1] = 'Courgette'\n",
    "```\n",
    "Will give: `['Carrot',Courgette','Potato','Cauliflower']`\n",
    "\n",
    "As `'Onion'` has been updated with `'Courgette`'\n",
    "\n",
    "Ways to index:\n",
    "\n",
    "Python Expression | Result | Explanation\n",
    "------------------|--------|------------\n",
    "vegetables[1]     |'Courgette'| Indexing from start of list at 0\n",
    "vegetables[-2] | 'Potato' | Backwards indexing from end of list\n",
    "vegetables[2:] | ['Potato','Cauliflower'] | Slicing a section from a given start index to the end of the list.\n",
    "vegetables[:2] | ['Carrot','Courgette'] | Slicing a section from the start of the list until a given end index.\n",
    "vegetables[1:3] | ['Courgette','Potato'] | Slicing a section from a given start index to a given end index.\n",
    "\n",
    "Try some of these approaches below."
   ]
  },
  {
   "cell_type": "code",
   "execution_count": 101,
   "metadata": {},
   "outputs": [
    {
     "data": {
      "text/plain": [
       "9999"
      ]
     },
     "execution_count": 101,
     "metadata": {},
     "output_type": "execute_result"
    }
   ],
   "source": [
    "# Try indexing list_1 and list_2\n",
    "list_1[0]"
   ]
  },
  {
   "cell_type": "code",
   "execution_count": 102,
   "metadata": {},
   "outputs": [
    {
     "data": {
      "text/plain": [
       "[50, 60]"
      ]
     },
     "execution_count": 102,
     "metadata": {},
     "output_type": "execute_result"
    }
   ],
   "source": [
    "# slicing\n",
    "list_1[3:5]"
   ]
  },
  {
   "cell_type": "code",
   "execution_count": 103,
   "metadata": {},
   "outputs": [
    {
     "data": {
      "text/plain": [
       "'Wednesday'"
      ]
     },
     "execution_count": 103,
     "metadata": {},
     "output_type": "execute_result"
    }
   ],
   "source": [
    "# Backwards indexing\n",
    "tuple1[-1]"
   ]
  },
  {
   "cell_type": "code",
   "execution_count": 104,
   "metadata": {
    "collapsed": true
   },
   "outputs": [],
   "source": [
    "route1 = [['Glasgow', '09:00'],['Falkirk', '10:00'],['Edinburgh', '10:30']]"
   ]
  },
  {
   "cell_type": "code",
   "execution_count": 109,
   "metadata": {},
   "outputs": [
    {
     "name": "stdout",
     "output_type": "stream",
     "text": [
      "09:00\n"
     ]
    }
   ],
   "source": [
    "print (route1[0][1])"
   ]
  },
  {
   "cell_type": "code",
   "execution_count": 108,
   "metadata": {},
   "outputs": [
    {
     "name": "stdout",
     "output_type": "stream",
     "text": [
      "Falkirk\n"
     ]
    }
   ],
   "source": [
    "print (route1[1][0])"
   ]
  },
  {
   "cell_type": "code",
   "execution_count": 110,
   "metadata": {
    "collapsed": true
   },
   "outputs": [],
   "source": [
    "from datetime import timedelta"
   ]
  },
  {
   "cell_type": "code",
   "execution_count": null,
   "metadata": {
    "collapsed": true
   },
   "outputs": [],
   "source": [
    "t1 = timedelta(hours = 11, minutes = 34)"
   ]
  },
  {
   "attachments": {
    "image.png": {
     "image/png": "[encoded data removed]"
    }
   },
   "cell_type": "markdown",
   "metadata": {},
   "source": [
    "# Exercise 3\n",
    "\n",
    "1.  Here is a python list that outlines a bus journey with stops:\n",
    "    \n",
    "    ```python\n",
    "        route1 = [['Glasgow', '09:00'],['Falkirk', '10:00'],['Edinburgh', '10:30']]\n",
    "    ```\n",
    "\n",
    "     \n",
    "     Print out stop 3 (place and time of arrival).\n",
    "\n",
    "2.   Using the Len function, return how many stops are in route 1.\n",
    "\n",
    "3.  How long does the journey (route 1) take. Subtract the time given in last stop with time in first stop.<br>\n",
    "\n",
    "    To subtract datetime import library \n",
    "    <br>\n",
    "    \n",
    "    ```python\n",
    "    from datetime import timedelta\n",
    "     ```\n",
    "   \n",
    "    Ensure that time is passed to the **timedelta** function as shown below: <br>\n",
    "    <br>\n",
    "    \n",
    "    ```python\n",
    "    t1 = timedelta(hours = 11, minutes = 34)\n",
    "     ```\n",
    "    <br>\n",
    "\n",
    "4.  Write a python statement to check if the number 3 is in the list below:\n",
    "    \n",
    "    ```python\n",
    "    list1=  [1, 5, 8, 3] \n",
    "    ```\n",
    "    \n",
    "    Why would this statement produce an error:\n",
    "    \n",
    "    ```python\n",
    "    tuple(list1)[1] = 3\n",
    "    ```\n",
    "\n",
    "5.  Here are 2 cartesian co-ordinates in lists:\n",
    "    \n",
    "    ```python\n",
    "    point1 =[5,5]\n",
    "    point2 = [10,10]\n",
    "    ```\n",
    "    \n",
    "    <br>\n",
    "    \n",
    "  ![image.png](attachment:image.png)\n",
    "  \n",
    "  \n",
    "  <br>\n",
    "  \n",
    "  6. Using the distance formula shown above, write python statements to calculate <br>\n",
    "      the distance between these two points. <br>\n",
    "      Convert to tuple before beginning calculation.\n",
    "      Round answer to 2 decimal places\n",
    "  "
   ]
  },
  {
   "cell_type": "code",
   "execution_count": null,
   "metadata": {
    "collapsed": true
   },
   "outputs": [],
   "source": []
  },
  {
   "cell_type": "code",
   "execution_count": null,
   "metadata": {
    "collapsed": true
   },
   "outputs": [],
   "source": [
    "route1 = [['Glasgow', '09:00'],['Falkirk', '10:00'],['Edinburgh', '10:30']]\n",
    "print (route1)"
   ]
  },
  {
   "cell_type": "code",
   "execution_count": null,
   "metadata": {
    "collapsed": true
   },
   "outputs": [],
   "source": [
    "print (route1[2])"
   ]
  },
  {
   "cell_type": "code",
   "execution_count": null,
   "metadata": {
    "collapsed": true
   },
   "outputs": [],
   "source": [
    "print (len(route1))"
   ]
  },
  {
   "cell_type": "code",
   "execution_count": null,
   "metadata": {
    "collapsed": true
   },
   "outputs": [],
   "source": [
    "from datetime import timedelta"
   ]
  },
  {
   "cell_type": "code",
   "execution_count": null,
   "metadata": {
    "collapsed": true
   },
   "outputs": [],
   "source": [
    "print (route1[0][0])"
   ]
  },
  {
   "cell_type": "code",
   "execution_count": null,
   "metadata": {
    "collapsed": true
   },
   "outputs": [],
   "source": [
    "t1 = timedelta(hours = , minutes = )"
   ]
  },
  {
   "cell_type": "code",
   "execution_count": null,
   "metadata": {
    "collapsed": true
   },
   "outputs": [],
   "source": [
    "point1 =[5,5]\n",
    "point2 = [10,10]\n",
    "point1 = tuple(point1[0]-poin1 )"
   ]
  },
  {
   "cell_type": "markdown",
   "metadata": {},
   "source": [
    "## 3. 4 Dictionaries\n",
    "\n",
    "* A dictionary has a set of 'keys' and each key has a single associated value.\n",
    "\n",
    "* Instead of indexing by position as with lists and tuples, dictionaries are indexed by keys.\n",
    "\n",
    "* When presented with a key, the dictionary will return the associated value.\n",
    "\n",
    "* A dictionary key must be an immutable data type. Usually this will mean integers or strings, but it is possible to use a tuple as a dictionary key.\n",
    "\n",
    "* In contrast, a dictionary value can hold any combination of objects. Including other dictionaries to create 'nested' dictionaries.\n",
    "\n",
    "* Dictionaries are 'key-value pair' data structures, also known as a _hash_, a _map_, and a _hashmap_ in other programming languages.\n",
    "\n",
    "* Python dictionaries are created using curly brackets { }.\n",
    "\n",
    "\n",
    "\n",
    "```python\n",
    "dictionary = {key1: value1, key2:value2, ...}\n",
    "```\n",
    "    \n",
    "* Values can be indexed by using a key within square brackets.\n",
    "\n",
    "```python\n",
    "dictionary[key2]\n",
    "```\n",
    "    \n",
    "* New keys can be assigned to a dictionary by providing a new key-value pair, however, if the key already exists this will overwrite the existing value as dicitonary keys must be unique.\n",
    "\n",
    "\n",
    "Python dictionary methods listed here: https://www.w3schools.com/python/python_ref_dictionary.asp\n"
   ]
  },
  {
   "cell_type": "code",
   "execution_count": 111,
   "metadata": {
    "collapsed": true
   },
   "outputs": [],
   "source": [
    "d1={}"
   ]
  },
  {
   "cell_type": "code",
   "execution_count": 112,
   "metadata": {},
   "outputs": [
    {
     "name": "stdout",
     "output_type": "stream",
     "text": [
      "Name is Steve and instrument 1 is  guitar\n"
     ]
    }
   ],
   "source": [
    "# Example \n",
    "person1 = {'name': 'Steve', 'occupation': 'musician', 'instrument' : ['keyboards', 'guitar', 'vocals'], \n",
    "      'nationality': 'English'}\n",
    "\n",
    "print(\"Name is\" , person1['name'], 'and',\n",
    "      \"instrument 1 is \", person1['instrument'][1])\n"
   ]
  },
  {
   "cell_type": "code",
   "execution_count": 113,
   "metadata": {},
   "outputs": [
    {
     "data": {
      "text/plain": [
       "{'languages': ['python', 'C++', 'scala'],\n",
       " 'name': 'John',\n",
       " 'nationality': 'UK',\n",
       " 'occupation': 'Programmer'}"
      ]
     },
     "execution_count": 113,
     "metadata": {},
     "output_type": "execute_result"
    }
   ],
   "source": [
    "# Example 2\n",
    "person2 = {'name': 'John', 'occupation': 'Programmer', 'languages': ['python','C++','scala'], 'nationality': 'UK'}\n",
    "person2"
   ]
  },
  {
   "cell_type": "code",
   "execution_count": 114,
   "metadata": {},
   "outputs": [
    {
     "data": {
      "text/plain": [
       "{'age': 59,\n",
       " 'instrument': ['keyboards', 'guitar', 'vocals'],\n",
       " 'name': 'Steve',\n",
       " 'nationality': 'English',\n",
       " 'occupation': 'musician'}"
      ]
     },
     "execution_count": 114,
     "metadata": {},
     "output_type": "execute_result"
    }
   ],
   "source": [
    "# Add a new key to a dictionary\n",
    "person1['age'] = 59\n",
    "person1"
   ]
  },
  {
   "cell_type": "code",
   "execution_count": 115,
   "metadata": {
    "collapsed": true
   },
   "outputs": [],
   "source": [
    "# Update an existing key - 2 ways it can be done\n",
    "person2['occupation'] = 'Data Scientist'\n",
    "person2.update({\"postcode\": \"G51 3SR\"})"
   ]
  },
  {
   "cell_type": "code",
   "execution_count": 116,
   "metadata": {},
   "outputs": [
    {
     "name": "stdout",
     "output_type": "stream",
     "text": [
      "dict_keys(['name', 'occupation', 'languages', 'nationality', 'postcode'])\n",
      "dict_values(['John', 'Data Scientist', ['python', 'C++', 'scala'], 'UK', 'G51 3SR'])\n"
     ]
    }
   ],
   "source": [
    "#get all keys\n",
    "print(person2.keys())\n",
    "#get all values\n",
    "print(person2.values())"
   ]
  },
  {
   "cell_type": "code",
   "execution_count": 117,
   "metadata": {},
   "outputs": [
    {
     "data": {
      "text/plain": [
       "'G51 3SR'"
      ]
     },
     "execution_count": 117,
     "metadata": {},
     "output_type": "execute_result"
    }
   ],
   "source": [
    "#remove an item\n",
    "person2.pop(\"postcode\")"
   ]
  },
  {
   "cell_type": "code",
   "execution_count": 118,
   "metadata": {},
   "outputs": [
    {
     "name": "stdout",
     "output_type": "stream",
     "text": [
      "{'name': 'John', 'occupation': 'Data Scientist', 'languages': ['python', 'C++', 'scala'], 'nationality': 'UK'}\n"
     ]
    }
   ],
   "source": [
    "print (person2)"
   ]
  },
  {
   "cell_type": "code",
   "execution_count": 119,
   "metadata": {},
   "outputs": [
    {
     "data": {
      "text/plain": [
       "True"
      ]
     },
     "execution_count": 119,
     "metadata": {},
     "output_type": "execute_result"
    }
   ],
   "source": [
    "#check for item existance\n",
    "\"nationality\" in person2"
   ]
  },
  {
   "cell_type": "code",
   "execution_count": 120,
   "metadata": {},
   "outputs": [
    {
     "data": {
      "text/plain": [
       "['black', 'green', 'red', 'white']"
      ]
     },
     "execution_count": 120,
     "metadata": {},
     "output_type": "execute_result"
    }
   ],
   "source": [
    "#sorting a dictionary\n",
    "\n",
    "color_dict = {'red':'#FF0000',\n",
    "          'green':'#008000',\n",
    "          'black':'#000000',\n",
    "          'white':'#FFFFFF'}\n",
    "\n",
    "#sort keys\n",
    "sorted(color_dict)"
   ]
  },
  {
   "cell_type": "code",
   "execution_count": 121,
   "metadata": {},
   "outputs": [
    {
     "data": {
      "text/plain": [
       "['#000000', '#008000', '#FF0000', '#FFFFFF']"
      ]
     },
     "execution_count": 121,
     "metadata": {},
     "output_type": "execute_result"
    }
   ],
   "source": [
    "sorted(color_dict.values())"
   ]
  },
  {
   "cell_type": "markdown",
   "metadata": {},
   "source": [
    "# Exercise 4\n",
    "\n",
    "\n",
    "    1.\n",
    "\n",
    "```python\n",
    "student_names=['Tom', 'Peter', 'Jane']\n",
    "modules =['FC107', 'FC106','MST123'] \n",
    "```\n",
    "    Using the above lists set up the following dictionary. \n",
    "\n",
    "```python\n",
    "student_modules ={'Tom': 'MST123', 'Peter': [FC107, FC106], 'Jane': 'FC106'}\n",
    "```\n",
    "\n",
    "    Zip the lists above then use to iterate and populate a dictionary\n",
    "    [('Tom', 'FC107'), ('Peter', 'FC106'), ('Jane', 'MST123')]\n",
    "    \n",
    "    For example:   \n",
    "    \n",
    "    dict1 = {'Tom': 'FC107', 'Peter': 'FC106', 'Jane': 'MST123'}`\n",
    "    \n",
    "\n",
    "    2.Check if a student already exists in dictionary student_names.\n",
    "\n",
    "    3.Write Python code to concatenate following dictionaries to create a new one.<br>\n",
    "\n",
    "```python\n",
    "    dic1={1:10, 2:20}\n",
    "    dic2={3:30, 4:40} \n",
    "    dic3={5:50,6:60}  \n",
    "    dic4: {1: 10, 2: 20, 3: 30, 4: 40, 5: 50, 6: 60}\n",
    "```        \n",
    "\n",
    "    4. Sum all the values in the dic1 dictionary\n",
    "\n",
    "    5. Count the number of students in the student_modules dictionary."
   ]
  },
  {
   "cell_type": "code",
   "execution_count": null,
   "metadata": {
    "collapsed": true
   },
   "outputs": [],
   "source": [
    "dict1 = {'Tom': 'FC107', 'Peter': 'FC106', 'Jane': 'MST123'}"
   ]
  },
  {
   "cell_type": "code",
   "execution_count": null,
   "metadata": {
    "collapsed": true
   },
   "outputs": [],
   "source": [
    "'Tom' in dict1.keys()"
   ]
  },
  {
   "cell_type": "code",
   "execution_count": null,
   "metadata": {
    "collapsed": true
   },
   "outputs": [],
   "source": [
    "dic1={1:10, 2:20}\n",
    "dic2={3:30, 4:40} \n",
    "dic3={5:50,6:60}  \n"
   ]
  },
  {
   "cell_type": "code",
   "execution_count": null,
   "metadata": {
    "collapsed": true
   },
   "outputs": [],
   "source": [
    "dic1={1:10, 2:20} \n",
    "dic2={3:30, 4:40} \n",
    "dic3={5:50,6:60}  \n",
    "\n",
    "dic1.update(dic2)\n"
   ]
  },
  {
   "cell_type": "code",
   "execution_count": null,
   "metadata": {
    "collapsed": true
   },
   "outputs": [],
   "source": [
    "print (dic1)"
   ]
  },
  {
   "cell_type": "code",
   "execution_count": null,
   "metadata": {
    "collapsed": true
   },
   "outputs": [],
   "source": [
    "print (sum(dic1.values()))"
   ]
  },
  {
   "cell_type": "code",
   "execution_count": null,
   "metadata": {
    "collapsed": true
   },
   "outputs": [],
   "source": [
    "print (dict1['Tom'])"
   ]
  },
  {
   "cell_type": "markdown",
   "metadata": {},
   "source": [
    "<b>Section 4:</b> \n",
    "\n",
    "# Sequence, Selection, Iteration\n",
    "\n",
    "\n",
    "## 4.1 The 3 Contructs\n",
    "\n",
    "\n",
    "All programming languages have 3 elements in common. They give power to implement solutions to extremely complex problems.\n",
    "\n",
    "These 3 elements are: \n",
    "\n",
    "* Sequence \n",
    "* Selection \n",
    "* Iteration \n",
    "\n",
    "**Sequence** is the order in which instructions occur and are processed.<br>\n",
    "**Selection** determines which path a program takes when it is running. <br>\n",
    "**Iteration** is the repeated execution of a section of code when a program is running.<br>\n",
    "<br>\n",
    "There are two types of iteration:<br>\n",
    "*count-controlled iteration*<br>\n",
    "*condition-controlled iteration*<br>\n",
    "\n",
    "All programs use one or more of these constructs. The longer and more complex the program, the more these constructs will be used repeatedly."
   ]
  },
  {
   "cell_type": "code",
   "execution_count": null,
   "metadata": {
    "collapsed": true
   },
   "outputs": [],
   "source": []
  },
  {
   "cell_type": "markdown",
   "metadata": {},
   "source": [
    "## 4.2 Sequence"
   ]
  },
  {
   "cell_type": "code",
   "execution_count": null,
   "metadata": {
    "collapsed": true
   },
   "outputs": [],
   "source": [
    "print (\"Hello World\")"
   ]
  },
  {
   "cell_type": "code",
   "execution_count": null,
   "metadata": {
    "collapsed": true
   },
   "outputs": [],
   "source": [
    "name = input (\"Please input your name\")\n",
    "print (\"Hello\", name, \"Welcome to course: Introduction to Python\")"
   ]
  },
  {
   "cell_type": "markdown",
   "metadata": {},
   "source": [
    "## 4.3 Selection  \n",
    "\n",
    "\n",
    "Python, like most programming languages also has a conditional statement, in python you can use:\n",
    "```python\n",
    "if <condition>:\n",
    "    <do something>\n",
    "```\n",
    "or\n",
    "```python\n",
    "if <condition>:\n",
    "    <do something>\n",
    "else:\n",
    "    <do something>\n",
    "```\n",
    "or finally\n",
    "```python\n",
    "if <condition>:\n",
    "    <do something>\n",
    "elif <condition>:\n",
    "    <do something>\n",
    "else:\n",
    "    <do something>\n",
    "```\n",
    "You can have as many `elif` parts as are needed."
   ]
  },
  {
   "cell_type": "code",
   "execution_count": null,
   "metadata": {
    "collapsed": true
   },
   "outputs": [],
   "source": [
    "a = 33\n",
    "b = 200\n",
    "\n",
    "if b > a:\n",
    "    print(\"b is greater than a\")"
   ]
  },
  {
   "cell_type": "code",
   "execution_count": null,
   "metadata": {
    "collapsed": true
   },
   "outputs": [],
   "source": [
    "temperature = float(input('What is the temperature? '))\n",
    "if temperature > 70:\n",
    "        print('Wear shorts.')\n",
    "else:\n",
    "        print('Wear long pants.')\n",
    "print('Get some exercise outside.')\n"
   ]
  },
  {
   "cell_type": "code",
   "execution_count": null,
   "metadata": {
    "collapsed": true
   },
   "outputs": [],
   "source": [
    "i = 20\n",
    "if (i in list: \n",
    "    print (\"i is 10\") \n",
    "elif (i == 15): \n",
    "    print (\"i is 15\") \n",
    "elif (i == 20): \n",
    "    print (\"i is 20\") \n",
    "else: \n",
    "    print (\"i is not present\") "
   ]
  },
  {
   "cell_type": "markdown",
   "metadata": {},
   "source": [
    "## 4.4 Iteration \n",
    "\n",
    "In Python, some objects are **iterable**. This means that they have a method which allows sequential access to the indices in the object from 0 to n. Iterable objects **can therefore be looped over** using the built-in for loop. Iteration, in this context, means taking each item of an object, one after another.\n",
    "\n",
    "Technically, the string is the simplest iterable object. Using a for loop we can iterate over each character in the string and perform a task.\n",
    "\n",
    "**The for loop**\n",
    "\n",
    "Python’s for loop looks like this:\n",
    "\n",
    "\n",
    "```python\n",
    "for <var> in <iterable>:\n",
    "    <statement(s)>\n",
    "```\n",
    "\n",
    "<iterable> is a collection of objects—for example, a list or tuple. The <statement(s)> in the loop body are denoted by indentation, as with all Python control structures, and are executed once for each item in <iterable>. \n",
    "The loop variable <var> takes on each value sequentially.\n",
    "\n",
    "**List Comprehension**\n",
    "\n",
    "new_list = [expression(i) for i in old_list if filter(i)]\n",
    "\n",
    "*result*  = [*transform*    *iteration*         *filter*     ]\n",
    "\n",
    "\n",
    "**Useful commands to use with for loop**\n",
    "\n",
    "**range([start], stop[, step])**\n",
    "<br>\n",
    "Generates a list of numbers, which is generally used to iterate over with for loops. For further info see here\n",
    "<br>\n",
    "https://www.pythoncentral.io/pythons-range-function-explained/\n",
    "<br>\n",
    "\n",
    "To retrieve both the index and values of a list in Python use the **enumerate** function\n",
    "<br>\n",
    "For further info see https://www.afternerd.com/blog/python-enumerate/\n",
    "<br>\n",
    "\n",
    "\n",
    "\n",
    "\n",
    "**The while loop**\n",
    "\n",
    "The format of a rudimentary while loop is shown below:\n",
    "\n",
    "```python\n",
    "while <expr>:\n",
    "    <statement(s)>\n",
    "```\n",
    "    \n",
    "<statement(s)> represents the block to be repeatedly executed, often referred to as the body of the loop. \n",
    "This is denoted with indentation, just as in an if statement.\n",
    "\n",
    "The controlling expression, <expr>, typically involves one or more variables that are initialized prior to starting the loop and then modified somewhere in the loop body.\n",
    "\n",
    "When a while loop is encountered, <expr> is first evaluated in Boolean context.\n",
    "If it is true, the loop body is executed. Then <expr> is checked again, and if still true, the body is executed again. This continues until <expr> becomes false, at which point program execution proceeds to the first statement beyond the loop body.\n",
    " <br>\n",
    "    \n",
    "Using the following link to \n",
    "https://www.learnpython.org/en/Loops\n",
    "interactively move through a loop in Python   \n"
   ]
  },
  {
   "cell_type": "code",
   "execution_count": null,
   "metadata": {
    "collapsed": true
   },
   "outputs": [],
   "source": [
    "##The for loop"
   ]
  },
  {
   "cell_type": "code",
   "execution_count": null,
   "metadata": {
    "collapsed": true
   },
   "outputs": [],
   "source": [
    "# iterate over characters in a string.\n",
    "for char in \"Data Science Campus\":\n",
    "    print(char)"
   ]
  },
  {
   "cell_type": "code",
   "execution_count": null,
   "metadata": {
    "collapsed": true
   },
   "outputs": [],
   "source": [
    "# iterate over list of days\n",
    "days= ['Mon','Tues','Wed','Thurs','Fri']\n",
    "for item in days:\n",
    "    print(item)"
   ]
  },
  {
   "cell_type": "code",
   "execution_count": null,
   "metadata": {
    "collapsed": true
   },
   "outputs": [],
   "source": [
    "days= ['Mon','Tues','Wed','Thurs','Fri']\n",
    "for num in range (len (days)):\n",
    "    print(num, days[num])"
   ]
  },
  {
   "cell_type": "code",
   "execution_count": null,
   "metadata": {
    "collapsed": true
   },
   "outputs": [],
   "source": [
    "days= ['Mon','Tues','Wed','Thurs','Fri']\n",
    "for num1, days2 in enumerate(days):\n",
    "    print(num1, days[num1])"
   ]
  },
  {
   "cell_type": "code",
   "execution_count": null,
   "metadata": {
    "collapsed": true
   },
   "outputs": [],
   "source": [
    "#list comprehensions"
   ]
  },
  {
   "cell_type": "code",
   "execution_count": null,
   "metadata": {
    "collapsed": true
   },
   "outputs": [],
   "source": [
    "x = [i for i in range(10)]\n",
    "print x"
   ]
  },
  {
   "cell_type": "code",
   "execution_count": null,
   "metadata": {
    "collapsed": true
   },
   "outputs": [],
   "source": [
    "squares = [x**2 for x in range(10)]\n",
    "print squares"
   ]
  },
  {
   "cell_type": "code",
   "execution_count": null,
   "metadata": {
    "collapsed": true
   },
   "outputs": [],
   "source": [
    "multiplied = [item*3 for item in list1] \n",
    "print multiplied "
   ]
  },
  {
   "cell_type": "code",
   "execution_count": null,
   "metadata": {
    "collapsed": true
   },
   "outputs": [],
   "source": [
    "#The while loop"
   ]
  },
  {
   "cell_type": "code",
   "execution_count": null,
   "metadata": {
    "collapsed": true
   },
   "outputs": [],
   "source": [
    "n = 5\n",
    "while n > 0:\n",
    "    n -= 1\n",
    "    print(n)"
   ]
  },
  {
   "cell_type": "code",
   "execution_count": null,
   "metadata": {
    "collapsed": true
   },
   "outputs": [],
   "source": [
    "a = ['foo', 'bar', 'baz', 'qux', 'corge']\n",
    "while a:\n",
    "    if len(a) < 3:\n",
    "        break\n",
    "    print(a.pop())\n",
    "\n",
    "print (a)\n",
    "print('Done.')\n"
   ]
  },
  {
   "cell_type": "markdown",
   "metadata": {},
   "source": [
    "\n",
    "# Exercise 5\n",
    "\n",
    "<br>\n",
    "\n",
    "1. Print all elements and their index values in a list using a for loop. \n",
    "2. Given a list of integer elements. Make a new list which will store square of elements of previous list. \n",
    "3. Using range(1,101), make two list, one containing all even numbers and other containing all odd numbers. \n",
    "4. Initailise an empty list to hold all country names in Europe. Set up a while loop to allow a user to keep adding entries\n",
    "   to the list until he/she wants to stop.\n",
    "   <br>\n",
    "5. Using some text, defined as an example below:-\n",
    "<br>\n",
    "\n",
    "        text1 = 'The cat sat on the mat'\n",
    "        \n",
    "<br>\n",
    "       Set up a dictionary that contains the words as keys(remember the keys must be unique) and a count of the number of              times the word appeared in the text.\n",
    "       \n",
    "       Output for text1 would be:\n",
    "       \n",
    "       dict_text = {'the': 2, 'cat':1,.....}\n",
    "       \n",
    "       Ensure that words(tokens) are all lowered cased before being used in the dictionary. Use the .split(\" \") method to \n",
    "       split string into words. "
   ]
  },
  {
   "cell_type": "markdown",
   "metadata": {},
   "source": [
    "## 4.5 Some More Useful Commands"
   ]
  },
  {
   "cell_type": "markdown",
   "metadata": {},
   "source": [
    "**Map** applies a function to all the items in an input_list.\n",
    "A **lambda** function can take any number of arguments, but can only have one expression."
   ]
  },
  {
   "cell_type": "code",
   "execution_count": null,
   "metadata": {
    "collapsed": true
   },
   "outputs": [],
   "source": [
    "# a way to square a list of integers\n",
    "\n",
    "def squared(x):\n",
    "    return (x**2)\n"
   ]
  },
  {
   "cell_type": "code",
   "execution_count": null,
   "metadata": {
    "collapsed": true
   },
   "outputs": [],
   "source": [
    "integers= [1, 4, 9, 16, 25]\n",
    "squared = list(map(squared, integers))\n",
    "print (squared)"
   ]
  },
  {
   "cell_type": "code",
   "execution_count": null,
   "metadata": {
    "collapsed": true
   },
   "outputs": [],
   "source": [
    "#Map allows us to implement this in a much simpler and nicer way, often used in combination with another function - lambda\n",
    "x = lambda a : a + 10\n",
    "print(x(5)) \n"
   ]
  },
  {
   "cell_type": "code",
   "execution_count": null,
   "metadata": {
    "collapsed": true
   },
   "outputs": [],
   "source": [
    "integers2= [2,4,6]\n",
    "squared = list(map(lambda x:x**2, integers2))\n",
    "print(list(squared))\n"
   ]
  },
  {
   "cell_type": "markdown",
   "metadata": {},
   "source": [
    "**Filter** creates a list of elements for which a function returns true.\n"
   ]
  },
  {
   "cell_type": "code",
   "execution_count": null,
   "metadata": {
    "collapsed": true
   },
   "outputs": [],
   "source": [
    "number_list = range(-5, 5)\n",
    "less_than_zero = list(filter(lambda x: x < 0, number_list))\n",
    "print(less_than_zero)"
   ]
  },
  {
   "cell_type": "code",
   "execution_count": null,
   "metadata": {
    "collapsed": true
   },
   "outputs": [],
   "source": [
    "**Reduce** is a really useful function for performing some computation on a list and returning the result. "
   ]
  },
  {
   "cell_type": "code",
   "execution_count": null,
   "metadata": {
    "collapsed": true
   },
   "outputs": [],
   "source": [
    "#So instead of:"
   ]
  },
  {
   "cell_type": "code",
   "execution_count": null,
   "metadata": {
    "collapsed": true
   },
   "outputs": [],
   "source": [
    "product = 1\n",
    "list = [1, 2, 3, 4]\n",
    "for num in list:\n",
    "    product = product * num\n",
    "print (product)"
   ]
  },
  {
   "cell_type": "code",
   "execution_count": null,
   "metadata": {
    "collapsed": true
   },
   "outputs": [],
   "source": [
    "#We can do this:"
   ]
  },
  {
   "cell_type": "code",
   "execution_count": null,
   "metadata": {
    "collapsed": true
   },
   "outputs": [],
   "source": [
    "from functools import reduce\n",
    "product = reduce((lambda x, y: x * y), [1, 2, 3, 4])\n",
    "print (product)"
   ]
  },
  {
   "cell_type": "code",
   "execution_count": null,
   "metadata": {
    "collapsed": true
   },
   "outputs": [],
   "source": []
  },
  {
   "cell_type": "markdown",
   "metadata": {},
   "source": [
    "## 4.6 Functions and Parameters\n",
    "\n",
    "A **function** is a block of code which only runs when it is called.\n",
    "You can pass data, known as **parameters**, into a function.\n",
    "A function can **return** data as a result."
   ]
  },
  {
   "cell_type": "code",
   "execution_count": null,
   "metadata": {
    "collapsed": true
   },
   "outputs": [],
   "source": [
    "def my_function(x):\n",
    "  return 5 * x\n",
    "\n",
    "print(my_function(3))"
   ]
  },
  {
   "cell_type": "code",
   "execution_count": null,
   "metadata": {
    "collapsed": true
   },
   "outputs": [],
   "source": [
    "def sum_two_numbers(a, b):\n",
    "    return a + b\n",
    "print (sum_two_numbers(3, 2))"
   ]
  },
  {
   "cell_type": "code",
   "execution_count": null,
   "metadata": {
    "collapsed": true
   },
   "outputs": [],
   "source": [
    "def changeme( mylist ):\n",
    "   #This changes a passed list into this function\"\n",
    "   mylist = [1,2,3,4]; # This would assig new reference in mylist\n",
    "   print (\"Values inside the function: \", mylist)\n",
    "   return mylist \n",
    "\n",
    "# Now you can call changeme function\n",
    "mylist = [10,20,30]\n",
    "changeme( mylist )\n",
    "print (\"Values outside the function: \", mylist)"
   ]
  },
  {
   "cell_type": "markdown",
   "metadata": {},
   "source": [
    "## Exercise 6\n",
    "\n",
    "1. Write a python function to multiply any two integers (passed into the function through parameters) and return the product.\n",
    "\n",
    "2. Write a Python function to calculate the hypotenuse of a right angled triangle. Pass in the length of the other two sides as parameters.\n",
    "\n",
    "3. Here are some words in English that are known as stopwords:\n",
    "    \n",
    "    \n",
    "```python\n",
    " stop = ['you','herself','it','its', 'a', 'the', 'he', 'him']\n",
    "```\n",
    "        \n",
    "       \n",
    "Write a Python function that takes text (str) and the above stopwords as values passed to parameters. The function then removes all words in the text that are in the list stop with a space.The function should return the string with the stopwords removed.\n"
   ]
  },
  {
   "cell_type": "markdown",
   "metadata": {},
   "source": [
    "# Plan For Day 2\n",
    "\n",
    "In the next session we will continue with pandas, learning how to:\n",
    "\n",
    "* Select columns\n",
    "* Filter rows\n",
    "* Generate new variables\n",
    "* Describe numeric and categorical data\n",
    "* Aggregate and cross-tabulate\n",
    "* Merge"
   ]
  },
  {
   "cell_type": "code",
   "execution_count": null,
   "metadata": {
    "collapsed": true
   },
   "outputs": [],
   "source": []
  }
 ],
 "metadata": {
  "kernelspec": {
   "display_name": "Python 3",
   "language": "python",
   "name": "python3"
  },
  "language_info": {
   "codemirror_mode": {
    "name": "ipython",
    "version": 3
   },
   "file_extension": ".py",
   "mimetype": "text/x-python",
   "name": "python",
   "nbconvert_exporter": "python",
   "pygments_lexer": "ipython3",
   "version": "3.6.3"
  }
 },
 "nbformat": 4,
 "nbformat_minor": 2
}
